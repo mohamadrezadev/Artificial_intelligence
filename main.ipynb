{
 "cells": [
  {
   "cell_type": "code",
   "execution_count": 1,
   "metadata": {},
   "outputs": [],
   "source": [
    "from numpy.ma.core import shape\n",
    "import random\n",
    "\n",
    "import numpy as np\n",
    "import tensorflow as tf\n",
    "\n",
    "from keras.datasets import mnist\n",
    "from keras.datasets import fashion_mnist\n",
    "\n",
    "from keras.utils import to_categorical\n",
    "\n",
    "from keras.models import Sequential\n",
    "from keras.layers import Dense \n",
    "\n",
    "import matplotlib.pyplot as plt \n",
    "from keras import layers\n",
    "from keras import Sequential\n",
    "from keras.models import  model_from_json\n",
    "import cv2          "
   ]
  },
  {
   "cell_type": "code",
   "execution_count": 44,
   "metadata": {},
   "outputs": [
    {
     "name": "stdout",
     "output_type": "stream",
     "text": [
      "[[[0 0 0 ... 0 0 0]\n",
      "  [0 0 0 ... 0 0 0]\n",
      "  [0 0 0 ... 0 0 0]\n",
      "  ...\n",
      "  [0 0 0 ... 0 0 0]\n",
      "  [0 0 0 ... 0 0 0]\n",
      "  [0 0 0 ... 0 0 0]]\n",
      "\n",
      " [[0 0 0 ... 0 0 0]\n",
      "  [0 0 0 ... 0 0 0]\n",
      "  [0 0 0 ... 0 0 0]\n",
      "  ...\n",
      "  [0 0 0 ... 0 0 0]\n",
      "  [0 0 0 ... 0 0 0]\n",
      "  [0 0 0 ... 0 0 0]]\n",
      "\n",
      " [[0 0 0 ... 0 0 0]\n",
      "  [0 0 0 ... 0 0 0]\n",
      "  [0 0 0 ... 0 0 0]\n",
      "  ...\n",
      "  [0 0 0 ... 0 0 0]\n",
      "  [0 0 0 ... 0 0 0]\n",
      "  [0 0 0 ... 0 0 0]]\n",
      "\n",
      " ...\n",
      "\n",
      " [[0 0 0 ... 0 0 0]\n",
      "  [0 0 0 ... 0 0 0]\n",
      "  [0 0 0 ... 0 0 0]\n",
      "  ...\n",
      "  [0 0 0 ... 0 0 0]\n",
      "  [0 0 0 ... 0 0 0]\n",
      "  [0 0 0 ... 0 0 0]]\n",
      "\n",
      " [[0 0 0 ... 0 0 0]\n",
      "  [0 0 0 ... 0 0 0]\n",
      "  [0 0 0 ... 0 0 0]\n",
      "  ...\n",
      "  [0 0 0 ... 0 0 0]\n",
      "  [0 0 0 ... 0 0 0]\n",
      "  [0 0 0 ... 0 0 0]]\n",
      "\n",
      " [[0 0 0 ... 0 0 0]\n",
      "  [0 0 0 ... 0 0 0]\n",
      "  [0 0 0 ... 0 0 0]\n",
      "  ...\n",
      "  [0 0 0 ... 0 0 0]\n",
      "  [0 0 0 ... 0 0 0]\n",
      "  [0 0 0 ... 0 0 0]]]\n",
      "Model: \"sequential_4\"\n",
      "_________________________________________________________________\n",
      " Layer (type)                Output Shape              Param #   \n",
      "=================================================================\n",
      " dense_10 (Dense)            (None, 128)               100480    \n",
      "                                                                 \n",
      " dense_11 (Dense)            (None, 128)               16512     \n",
      "                                                                 \n",
      " dense_12 (Dense)            (None, 10)                1290      \n",
      "                                                                 \n",
      "=================================================================\n",
      "Total params: 118,282\n",
      "Trainable params: 118,282\n",
      "Non-trainable params: 0\n",
      "_________________________________________________________________\n",
      "Epoch 1/20\n",
      "1563/1563 [==============================] - 19s 11ms/step - loss: 0.2810 - accuracy: 0.9161 - val_loss: 0.1981 - val_accuracy: 0.9386\n",
      "Epoch 2/20\n",
      "1563/1563 [==============================] - 16s 10ms/step - loss: 0.1456 - accuracy: 0.9568 - val_loss: 0.1349 - val_accuracy: 0.9618\n",
      "Epoch 3/20\n",
      "1563/1563 [==============================] - 17s 11ms/step - loss: 0.1102 - accuracy: 0.9668 - val_loss: 0.1536 - val_accuracy: 0.9544\n",
      "Epoch 4/20\n",
      "1563/1563 [==============================] - 17s 11ms/step - loss: 0.0933 - accuracy: 0.9708 - val_loss: 0.1079 - val_accuracy: 0.9681\n",
      "Epoch 5/20\n",
      "1563/1563 [==============================] - 15s 10ms/step - loss: 0.0782 - accuracy: 0.9761 - val_loss: 0.1054 - val_accuracy: 0.9706\n",
      "Epoch 6/20\n",
      "1563/1563 [==============================] - 16s 10ms/step - loss: 0.0693 - accuracy: 0.9791 - val_loss: 0.1098 - val_accuracy: 0.9694\n",
      "Epoch 7/20\n",
      "1563/1563 [==============================] - 17s 11ms/step - loss: 0.0622 - accuracy: 0.9813 - val_loss: 0.0990 - val_accuracy: 0.9725\n",
      "Epoch 8/20\n",
      "1563/1563 [==============================] - 16s 11ms/step - loss: 0.0557 - accuracy: 0.9831 - val_loss: 0.1043 - val_accuracy: 0.9737\n",
      "Epoch 9/20\n",
      "1563/1563 [==============================] - 17s 11ms/step - loss: 0.0520 - accuracy: 0.9842 - val_loss: 0.1150 - val_accuracy: 0.9706\n",
      "Epoch 10/20\n",
      "1563/1563 [==============================] - 16s 10ms/step - loss: 0.0477 - accuracy: 0.9856 - val_loss: 0.1151 - val_accuracy: 0.9735\n",
      "Epoch 11/20\n",
      "1563/1563 [==============================] - 16s 11ms/step - loss: 0.0426 - accuracy: 0.9868 - val_loss: 0.1087 - val_accuracy: 0.9755\n",
      "Epoch 12/20\n",
      "1563/1563 [==============================] - 17s 11ms/step - loss: 0.0409 - accuracy: 0.9879 - val_loss: 0.1265 - val_accuracy: 0.9720\n",
      "Epoch 13/20\n",
      "1563/1563 [==============================] - 18s 11ms/step - loss: 0.0379 - accuracy: 0.9887 - val_loss: 0.1130 - val_accuracy: 0.9745\n",
      "Epoch 14/20\n",
      "1563/1563 [==============================] - 15s 10ms/step - loss: 0.0348 - accuracy: 0.9894 - val_loss: 0.1304 - val_accuracy: 0.9717\n",
      "Epoch 15/20\n",
      "1563/1563 [==============================] - 17s 11ms/step - loss: 0.0334 - accuracy: 0.9898 - val_loss: 0.1317 - val_accuracy: 0.9746\n",
      "Epoch 16/20\n",
      "1563/1563 [==============================] - 16s 10ms/step - loss: 0.0309 - accuracy: 0.9907 - val_loss: 0.1383 - val_accuracy: 0.9709\n",
      "Epoch 17/20\n",
      "1563/1563 [==============================] - 18s 11ms/step - loss: 0.0306 - accuracy: 0.9909 - val_loss: 0.1390 - val_accuracy: 0.9721\n",
      "Epoch 18/20\n",
      "1563/1563 [==============================] - 17s 11ms/step - loss: 0.0266 - accuracy: 0.9918 - val_loss: 0.1358 - val_accuracy: 0.9744\n",
      "Epoch 19/20\n",
      "1563/1563 [==============================] - 17s 11ms/step - loss: 0.0273 - accuracy: 0.9911 - val_loss: 0.1330 - val_accuracy: 0.9733\n",
      "Epoch 20/20\n",
      "1563/1563 [==============================] - 17s 11ms/step - loss: 0.0238 - accuracy: 0.9925 - val_loss: 0.1384 - val_accuracy: 0.9728\n",
      "Test loss: 0.1277104914188385\n",
      "Test accuracy: 0.9732999801635742\n"
     ]
    }
   ],
   "source": [
    "\n",
    "\n",
    "\n",
    "\n",
    "SEED_VALUE=42\n",
    "random.seed(SEED_VALUE)\n",
    "np.random.seed(SEED_VALUE)\n",
    "tf.random.set_seed(SEED_VALUE)\n",
    "\n",
    "(x_trainall, y_trainall), (x_test, y_test) = mnist.load_data()\n",
    "print(x_trainall)\n",
    "x_valid=x_trainall[:10000]\n",
    "x_train=x_trainall[10000:]\n",
    "\n",
    "y_Valid=y_trainall[:10000]\n",
    "y_train=y_trainall[10000:]\n",
    "\n",
    "# print(x_train,shape)\n",
    "# print(x_valid,shape)\n",
    "# print(x_test,shape)\n",
    "\n",
    "# plt.figure(figsize=(15,5))\n",
    "# for i in range(3):\n",
    "#   plt.subplot(1,3,i+1)\n",
    "#   # plt.axis()\n",
    "#   plt.imshow(x_train[i],cmap='gray')\n",
    "#   plt.subplots_adjust(0.2,0.2)\n",
    "\n",
    "# plt.show()\n",
    "\n",
    "\n",
    "x_train=x_train.reshape(x_train.shape[0],28*28)\n",
    "x_train=x_train.astype('float32')/255\n",
    "\n",
    "x_valid=x_valid.reshape(x_test.shape[0],28*28)\n",
    "x_valid=x_valid.astype('float32')/255\n",
    "\n",
    "x_test=x_test.reshape(x_test.shape[0],28*28)\n",
    "x_test=x_test.astype('float32')/255\n",
    "\n",
    "y_train=to_categorical(y_train)\n",
    "y_test=to_categorical(y_test)\n",
    "y_Valid=to_categorical(y_Valid)\n",
    "\n",
    "\n",
    "model = Sequential()\n",
    "model.add(Dense(128, activation='LeakyReLU', input_shape=(x_train.shape[1],)))\n",
    "model.add(Dense(128, activation='LeakyReLU'))\n",
    "model.add(Dense(10, activation='softmax'))\n",
    "\n",
    "model.summary()\n",
    "\n",
    "model.compile(loss='categorical_crossentropy',\n",
    "              optimizer='rmsprop',\n",
    "              metrics=['accuracy'])\n",
    "\n",
    "trainig_result= model.fit(x_train,y_train, batch_size=32, epochs=20, validation_data=(x_valid, y_Valid))\n",
    "\n",
    "score = model.evaluate(x_test, y_test, verbose=0)\n",
    "print('Test loss:', score[0])\n",
    "print('Test accuracy:', score[1])\n"
   ]
  },
  {
   "cell_type": "code",
   "execution_count": 45,
   "metadata": {},
   "outputs": [
    {
     "name": "stdout",
     "output_type": "stream",
     "text": [
      "Saved model to disk\n"
     ]
    }
   ],
   "source": [
    "# serialize model to JSON\n",
    "model_json = model.to_json()\n",
    "with open(\"model.json\", \"w\") as json_file:\n",
    "    json_file.write(model_json)\n",
    "# serialize weights to HDF5\n",
    "model.save_weights(\"model.h5\")\n",
    "print(\"Saved model to disk\")\n",
    " "
   ]
  },
  {
   "cell_type": "code",
   "execution_count": 2,
   "metadata": {},
   "outputs": [
    {
     "name": "stdout",
     "output_type": "stream",
     "text": [
      "Loaded model from disk\n"
     ]
    }
   ],
   "source": [
    "# load json and create model\n",
    "json_file = open('model.json', 'r')\n",
    "loaded_model_json = json_file.read()\n",
    "json_file.close()\n",
    "loaded_model = model_from_json(loaded_model_json)\n",
    "# load weights into new model\n",
    "loaded_model.load_weights(\"model.h5\")\n",
    "print(\"Loaded model from disk\")"
   ]
  },
  {
   "cell_type": "code",
   "execution_count": 5,
   "metadata": {},
   "outputs": [],
   "source": [
    "def getpic(filename):\n",
    "        img = cv2.imread(filename)\n",
    "        gray = cv2.cvtColor(img, cv2.COLOR_BGR2GRAY)\n",
    "        _, threshold = cv2.threshold(gray, 110, 255, cv2.THRESH_BINARY)\n",
    "\n",
    "        contours, _ = cv2.findContours(threshold, cv2.RETR_TREE, cv2.CHAIN_APPROX_SIMPLE)\n",
    "        rectangles = [cv2.boundingRect(c) for c in contours]\n",
    "        sorted_rectangles = sorted(rectangles, key=lambda r: r[2]*r[3], reverse=True)\n",
    "        # max_rect = max(rectangles, key=lambda r: r[2]*r[3])\n",
    "        sorted_rectangles = sorted(rectangles, key=lambda r: r[2]*r[3], reverse=True)\n",
    "        max_rects = sorted_rectangles[:2]\n",
    "        cropped1=[]\n",
    "        for i, rect in enumerate(max_rects):\n",
    "          x, y, w, h = rect\n",
    "          center_x = x + w/2\n",
    "          center_y = y + h/2\n",
    "          # cv2.rectangle(img, (x, y), (x+w, y+h), (0, 255, 0), 2)\n",
    "          # cv2.circle(img, (int(center_x), int(center_y)), 5, (0, 0, 255), -1)\n",
    "\n",
    "          # برش  مستطیل\n",
    "          cropped = img[y:y+h, x:x+w]\n",
    "          \n",
    "          cv2.imwrite(f'Imagederect{i}.png', cropped)\n",
    "          cropped1.append(f'Imagederect{i}.png')\n",
    "        \n",
    "        return cropped1"
   ]
  },
  {
   "cell_type": "code",
   "execution_count": 20,
   "metadata": {},
   "outputs": [
    {
     "name": "stdout",
     "output_type": "stream",
     "text": [
      "['Imagederect0.png', 'Imagederect1.png']\n"
     ]
    }
   ],
   "source": [
    "# getpic('44.png')\n",
    "images= getpic('18.png')\n",
    "print(images)"
   ]
  },
  {
   "cell_type": "code",
   "execution_count": 10,
   "metadata": {},
   "outputs": [],
   "source": [
    "def make_square(image_path, square_size=440):\n",
    "    img = cv2.imread(image_path)\n",
    "    height, width, _ = img.shape\n",
    "    if height == width:\n",
    "        return img\n",
    "    elif height > width:\n",
    "        top_bottom = height - width\n",
    "        top = top_bottom // 2\n",
    "        bottom = top_bottom - top\n",
    "        img_with_border = cv2.copyMakeBorder(img, top, bottom, 0, 0, cv2.BORDER_CONSTANT, None, value=[0, 0, 0])\n",
    "    else:\n",
    "        left_right = width - height\n",
    "        left = left_right // 2\n",
    "        right = left_right - left\n",
    "        img_with_border = cv2.copyMakeBorder(img, 0, 0, left, right, cv2.BORDER_CONSTANT, None, value=[0, 0, 0])\n",
    "    resized_img = cv2.resize(img_with_border, (square_size, square_size))\n",
    "    return resized_img"
   ]
  },
  {
   "cell_type": "code",
   "execution_count": 12,
   "metadata": {},
   "outputs": [],
   "source": [
    "def testmodel(filename):\n",
    "    img = cv2.imread(filename, cv2.IMREAD_GRAYSCALE)\n",
    "    img = cv2.resize(img, (28, 28))\n",
    "    img = img.astype('float32') / 255.0\n",
    "    img = img.reshape(1, 28*28)\n",
    "    pred = model.predict(img)\n",
    "    print(np.argmax(pred))\n",
    "    class_names = ['0', '1', '2', '3', '4', '5', '6', '7', '8', '9']\n",
    "    pred_class_name = class_names[np.argmax(pred)]\n",
    "    print('Predicted class:', pred_class_name)"
   ]
  },
  {
   "cell_type": "code",
   "execution_count": 19,
   "metadata": {},
   "outputs": [],
   "source": [
    "resized_image = make_square(\"18.png\")\n",
    "\n",
    "# testmodel(\"resized_image1.png\")"
   ]
  },
  {
   "cell_type": "code",
   "execution_count": 21,
   "metadata": {},
   "outputs": [
    {
     "name": "stdout",
     "output_type": "stream",
     "text": [
      "0\n",
      "1\n"
     ]
    }
   ],
   "source": [
    "for i in range(len(images)) :\n",
    "          print (i)\n",
    "          resized_image = make_square(images[i])\n",
    "          cv2.imwrite(f\"resized_image{i}.png\",resized_image)\n",
    "          # testmodel(f\"resized_image{i}.png\")\n",
    "          cv2.imshow('image', resized_image)\n",
    "          cv2.waitKey(0)\n",
    "          cv2.destroyAllWindows()"
   ]
  },
  {
   "cell_type": "code",
   "execution_count": 25,
   "metadata": {},
   "outputs": [],
   "source": [
    "def addborder(filename):\n",
    "          img = cv2.imread(filename)\n",
    "          height, width, _ = img.shape\n",
    "\n",
    "          border_size = 85\n",
    "          border_color = (0, 0, 0)\n",
    "\n",
    "          img_with_border = cv2.copyMakeBorder(img, border_size, border_size, border_size, border_size, cv2.BORDER_CONSTANT, value=border_color)\n",
    "\n",
    "          cv2.imwrite(\"image_with_border.jpg\", img_with_border)"
   ]
  },
  {
   "cell_type": "code",
   "execution_count": 46,
   "metadata": {},
   "outputs": [
    {
     "name": "stdout",
     "output_type": "stream",
     "text": [
      "1/1 [==============================] - 0s 243ms/step\n",
      "5\n",
      "Predicted class: 5\n"
     ]
    }
   ],
   "source": [
    "images= getpic('7.png')\n",
    "\n",
    "addborder('Imagederect0.png')\n",
    "# addborder('Imagederect1.png')\n",
    "testmodel('image_with_border.jpg')"
   ]
  },
  {
   "cell_type": "code",
   "execution_count": 27,
   "metadata": {},
   "outputs": [],
   "source": [
    "resized_image = make_square('resized_image0.png')\n",
    "cv2.imwrite(\"resized_image.png\",resized_image)\n",
    "cv2.imshow('image', resized_image)\n",
    "cv2.waitKey(0)\n",
    "cv2.destroyAllWindows()"
   ]
  },
  {
   "cell_type": "code",
   "execution_count": 22,
   "metadata": {},
   "outputs": [
    {
     "name": "stdout",
     "output_type": "stream",
     "text": [
      "1/1 [==============================] - 0s 33ms/step\n",
      "2\n",
      "Predicted class: 2\n",
      "1/1 [==============================] - 0s 42ms/step\n",
      "2\n",
      "Predicted class: 2\n"
     ]
    }
   ],
   "source": [
    "testmodel('resized_image0.png')\n",
    "testmodel('resized_image1.png')"
   ]
  },
  {
   "cell_type": "code",
   "execution_count": null,
   "metadata": {},
   "outputs": [],
   "source": [
    "\n",
    "\n",
    "# تعیین مشخصات وب کم\n",
    "camera_port = 0\n",
    "ramp_frames = 30\n",
    "camera = cv2.VideoCapture(camera_port)\n",
    "\n",
    "# چک کردن اینکه وب کم را می‌توان دسترسی پیدا کرد یا نه\n",
    "def get_image():\n",
    "    # خواندن تعدادی فریم برای آماده سازی کیفیت وب کم\n",
    "    for i in range(ramp_frames):\n",
    "        retval, im = camera.read()\n",
    "    # خواندن یک فریم واقعی از وب کم\n",
    "    retval, im = camera.read()\n",
    "    return im\n",
    "\n",
    "while True:\n",
    "    # خواندن یک فریم از وب کم\n",
    "    ret, frame = camera.read()\n",
    "    \n",
    "    # نمایش فریم در پنجره\n",
    "    cv2.imshow('Webcam Feed', frame)\n",
    "    \n",
    "    # اگر کاربر کلید q را فشار داد\n",
    "    if cv2.waitKey(1) & 0xFF == ord('q'):\n",
    "        # خروج از حلقه بی نهایت و آزاد کردن دوربین\n",
    "        camera.release()\n",
    "        cv2.destroyAllWindows()\n",
    "        break\n",
    "    \n",
    "    # اگر کاربر کلید s را فشار داد\n",
    "    elif cv2.waitKey(1) & 0xFF == ord('s'):\n",
    "        image= getpic(frame=frame)\n",
    "        resized_image=make_square\n",
    "        testmodel(resized_image)\n",
    "        camera.release()\n",
    "        cv2.destroyAllWindows()\n",
    "        break"
   ]
  }
 ],
 "metadata": {
  "kernelspec": {
   "display_name": "Python 3",
   "language": "python",
   "name": "python3"
  },
  "language_info": {
   "codemirror_mode": {
    "name": "ipython",
    "version": 3
   },
   "file_extension": ".py",
   "mimetype": "text/x-python",
   "name": "python",
   "nbconvert_exporter": "python",
   "pygments_lexer": "ipython3",
   "version": "3.10.11"
  },
  "orig_nbformat": 4
 },
 "nbformat": 4,
 "nbformat_minor": 2
}
